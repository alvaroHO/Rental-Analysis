{
 "cells": [
  {
   "cell_type": "markdown",
   "metadata": {},
   "source": [
    "### Data Analysis Department.\n",
    "### Spotahome"
   ]
  },
  {
   "cell_type": "markdown",
   "metadata": {},
   "source": [
    "##### We have been requested by product manager for a report which shows some statistics of booking state and apartment type for each city from 2014 until nowdays so they can decide which city is more interesting to buy new rentable units.\n",
    "#####  Product manager is also interested in knowing which is the most booked city and how apartments booking has evolved in this city in the last two years looking at rooms number and how is the distribution of booking states along the last four years to see if there is seasonality in data behavior. "
   ]
  },
  {
   "cell_type": "markdown",
   "metadata": {},
   "source": [
    "##### First of all, we load csv files as pandas dataframes and take a look to data structure"
   ]
  },
  {
   "cell_type": "code",
   "execution_count": 1,
   "metadata": {
    "collapsed": true
   },
   "outputs": [],
   "source": [
    "import pandas as pd\n",
    "import matplotlib.pyplot as plt"
   ]
  },
  {
   "cell_type": "code",
   "execution_count": 2,
   "metadata": {},
   "outputs": [
    {
     "data": {
      "text/html": [
       "<div>\n",
       "<style scoped>\n",
       "    .dataframe tbody tr th:only-of-type {\n",
       "        vertical-align: middle;\n",
       "    }\n",
       "\n",
       "    .dataframe tbody tr th {\n",
       "        vertical-align: top;\n",
       "    }\n",
       "\n",
       "    .dataframe thead th {\n",
       "        text-align: right;\n",
       "    }\n",
       "</style>\n",
       "<table border=\"1\" class=\"dataframe\">\n",
       "  <thead>\n",
       "    <tr style=\"text-align: right;\">\n",
       "      <th></th>\n",
       "      <th>unit_id</th>\n",
       "      <th>property_id</th>\n",
       "      <th>country</th>\n",
       "      <th>city</th>\n",
       "      <th>n_room_to_rent</th>\n",
       "      <th>apartment_type</th>\n",
       "      <th>publication_date</th>\n",
       "    </tr>\n",
       "  </thead>\n",
       "  <tbody>\n",
       "    <tr>\n",
       "      <th>0</th>\n",
       "      <td>0313af760d64514c76668eb8bb7ee3e3</td>\n",
       "      <td>b36d33eaae446f30c4c8a9128e217dc1</td>\n",
       "      <td>country_0</td>\n",
       "      <td>city_0</td>\n",
       "      <td>1</td>\n",
       "      <td>room_shared</td>\n",
       "      <td>1970-01-01 00:00:00.000</td>\n",
       "    </tr>\n",
       "    <tr>\n",
       "      <th>1</th>\n",
       "      <td>c55cee4cb418452a98b8156e54f80313</td>\n",
       "      <td>47bb46c0eab9a2af7566a87c24321187</td>\n",
       "      <td>country_1</td>\n",
       "      <td>city_1</td>\n",
       "      <td>1</td>\n",
       "      <td>room_shared</td>\n",
       "      <td>1970-01-01 00:00:00.000</td>\n",
       "    </tr>\n",
       "    <tr>\n",
       "      <th>2</th>\n",
       "      <td>fcda0359a73b6694026d3429d7501728</td>\n",
       "      <td>faa9f84ae6a8e01afd6de5666312d7a2</td>\n",
       "      <td>country_2</td>\n",
       "      <td>city_2</td>\n",
       "      <td>1</td>\n",
       "      <td>apartment</td>\n",
       "      <td>1970-01-01 00:00:00.000</td>\n",
       "    </tr>\n",
       "    <tr>\n",
       "      <th>3</th>\n",
       "      <td>ce4bed9feec6d667331af56c2ed5b216</td>\n",
       "      <td>5c972c5490a71d7af324d0020476cbb1</td>\n",
       "      <td>country_0</td>\n",
       "      <td>city_0</td>\n",
       "      <td>1</td>\n",
       "      <td>room_shared</td>\n",
       "      <td>2016-10-16 02:21:12.000</td>\n",
       "    </tr>\n",
       "    <tr>\n",
       "      <th>4</th>\n",
       "      <td>f9b9a86b000ad81f6be5143f7795faa4</td>\n",
       "      <td>eec93d30908bd873b8677f421e8e29be</td>\n",
       "      <td>country_3</td>\n",
       "      <td>city_3</td>\n",
       "      <td>1</td>\n",
       "      <td>room_shared</td>\n",
       "      <td>1970-01-01 00:00:00.000</td>\n",
       "    </tr>\n",
       "  </tbody>\n",
       "</table>\n",
       "</div>"
      ],
      "text/plain": [
       "                            unit_id                       property_id  \\\n",
       "0  0313af760d64514c76668eb8bb7ee3e3  b36d33eaae446f30c4c8a9128e217dc1   \n",
       "1  c55cee4cb418452a98b8156e54f80313  47bb46c0eab9a2af7566a87c24321187   \n",
       "2  fcda0359a73b6694026d3429d7501728  faa9f84ae6a8e01afd6de5666312d7a2   \n",
       "3  ce4bed9feec6d667331af56c2ed5b216  5c972c5490a71d7af324d0020476cbb1   \n",
       "4  f9b9a86b000ad81f6be5143f7795faa4  eec93d30908bd873b8677f421e8e29be   \n",
       "\n",
       "     country    city  n_room_to_rent apartment_type         publication_date  \n",
       "0  country_0  city_0               1    room_shared  1970-01-01 00:00:00.000  \n",
       "1  country_1  city_1               1    room_shared  1970-01-01 00:00:00.000  \n",
       "2  country_2  city_2               1      apartment  1970-01-01 00:00:00.000  \n",
       "3  country_0  city_0               1    room_shared  2016-10-16 02:21:12.000  \n",
       "4  country_3  city_3               1    room_shared  1970-01-01 00:00:00.000  "
      ]
     },
     "execution_count": 2,
     "metadata": {},
     "output_type": "execute_result"
    }
   ],
   "source": [
    "rentable_units = pd.read_csv('C:/Users/LDAAHO/Desktop/Spotahome/rentable_units.csv', sep=',')\n",
    "\n",
    "rentable_units.head()"
   ]
  },
  {
   "cell_type": "code",
   "execution_count": 3,
   "metadata": {},
   "outputs": [
    {
     "data": {
      "text/html": [
       "<div>\n",
       "<style scoped>\n",
       "    .dataframe tbody tr th:only-of-type {\n",
       "        vertical-align: middle;\n",
       "    }\n",
       "\n",
       "    .dataframe tbody tr th {\n",
       "        vertical-align: top;\n",
       "    }\n",
       "\n",
       "    .dataframe thead th {\n",
       "        text-align: right;\n",
       "    }\n",
       "</style>\n",
       "<table border=\"1\" class=\"dataframe\">\n",
       "  <thead>\n",
       "    <tr style=\"text-align: right;\">\n",
       "      <th></th>\n",
       "      <th>booking_id</th>\n",
       "      <th>unit_id</th>\n",
       "      <th>check_in_date</th>\n",
       "      <th>check_out_date</th>\n",
       "      <th>booking_lead_date</th>\n",
       "      <th>booking_request_date</th>\n",
       "      <th>last_date</th>\n",
       "      <th>last_state</th>\n",
       "    </tr>\n",
       "  </thead>\n",
       "  <tbody>\n",
       "    <tr>\n",
       "      <th>0</th>\n",
       "      <td>000c74469bd60198ca0bb5631e82b47c</td>\n",
       "      <td>ac734ecd7f73a3cb59cdfeed1f2e0b8b</td>\n",
       "      <td>2017-09-01 00:00:00</td>\n",
       "      <td>2017-12-31 00:00:00</td>\n",
       "      <td>2017-08-28 11:47:53</td>\n",
       "      <td>2017-08-28 11:49:40</td>\n",
       "      <td>2017-08-28 14:32:22</td>\n",
       "      <td>Booking</td>\n",
       "    </tr>\n",
       "    <tr>\n",
       "      <th>1</th>\n",
       "      <td>001410d998eec5bc4862bdc0b83ed3aa</td>\n",
       "      <td>2e458d3a11ed6f80afd50599b797879b</td>\n",
       "      <td>2017-09-10 00:00:00</td>\n",
       "      <td>2018-02-11 00:00:00</td>\n",
       "      <td>2017-05-30 11:37:41</td>\n",
       "      <td>2017-05-30 11:39:21</td>\n",
       "      <td>2017-06-01 10:40:48</td>\n",
       "      <td>BookingRequest</td>\n",
       "    </tr>\n",
       "    <tr>\n",
       "      <th>2</th>\n",
       "      <td>0014581ab5fef5ce8c678083c8248708</td>\n",
       "      <td>fd1764f21ce533cc362d9938d39b5d6e</td>\n",
       "      <td>2017-10-10 00:00:00</td>\n",
       "      <td>2018-07-31 00:00:00</td>\n",
       "      <td>2017-09-18 07:31:36</td>\n",
       "      <td>2017-09-18 07:32:46</td>\n",
       "      <td>2017-09-19 14:28:39</td>\n",
       "      <td>TenantCancel</td>\n",
       "    </tr>\n",
       "    <tr>\n",
       "      <th>3</th>\n",
       "      <td>0015a8e833e21e03bc52bf414dcb790a</td>\n",
       "      <td>63b2022f9abea50e41420e83903e4306</td>\n",
       "      <td>2018-01-13 17:09:27</td>\n",
       "      <td>2018-04-28 17:09:27</td>\n",
       "      <td>2017-10-25 19:47:10</td>\n",
       "      <td>2017-11-04 17:09:28</td>\n",
       "      <td>2017-11-06 08:28:54</td>\n",
       "      <td>TenantCancel</td>\n",
       "    </tr>\n",
       "    <tr>\n",
       "      <th>4</th>\n",
       "      <td>0015c865dce8a80c200f23269c895f0f</td>\n",
       "      <td>283310c7efc249b1bd5250b0dad4ae64</td>\n",
       "      <td>2017-10-16 00:00:00</td>\n",
       "      <td>2018-06-14 00:00:00</td>\n",
       "      <td>2017-10-08 19:17:43</td>\n",
       "      <td>2017-10-08 19:18:46</td>\n",
       "      <td>2017-10-09 15:45:27</td>\n",
       "      <td>TenantCancel</td>\n",
       "    </tr>\n",
       "  </tbody>\n",
       "</table>\n",
       "</div>"
      ],
      "text/plain": [
       "                         booking_id                           unit_id  \\\n",
       "0  000c74469bd60198ca0bb5631e82b47c  ac734ecd7f73a3cb59cdfeed1f2e0b8b   \n",
       "1  001410d998eec5bc4862bdc0b83ed3aa  2e458d3a11ed6f80afd50599b797879b   \n",
       "2  0014581ab5fef5ce8c678083c8248708  fd1764f21ce533cc362d9938d39b5d6e   \n",
       "3  0015a8e833e21e03bc52bf414dcb790a  63b2022f9abea50e41420e83903e4306   \n",
       "4  0015c865dce8a80c200f23269c895f0f  283310c7efc249b1bd5250b0dad4ae64   \n",
       "\n",
       "         check_in_date       check_out_date    booking_lead_date  \\\n",
       "0  2017-09-01 00:00:00  2017-12-31 00:00:00  2017-08-28 11:47:53   \n",
       "1  2017-09-10 00:00:00  2018-02-11 00:00:00  2017-05-30 11:37:41   \n",
       "2  2017-10-10 00:00:00  2018-07-31 00:00:00  2017-09-18 07:31:36   \n",
       "3  2018-01-13 17:09:27  2018-04-28 17:09:27  2017-10-25 19:47:10   \n",
       "4  2017-10-16 00:00:00  2018-06-14 00:00:00  2017-10-08 19:17:43   \n",
       "\n",
       "  booking_request_date            last_date      last_state  \n",
       "0  2017-08-28 11:49:40  2017-08-28 14:32:22         Booking  \n",
       "1  2017-05-30 11:39:21  2017-06-01 10:40:48  BookingRequest  \n",
       "2  2017-09-18 07:32:46  2017-09-19 14:28:39    TenantCancel  \n",
       "3  2017-11-04 17:09:28  2017-11-06 08:28:54    TenantCancel  \n",
       "4  2017-10-08 19:18:46  2017-10-09 15:45:27    TenantCancel  "
      ]
     },
     "execution_count": 3,
     "metadata": {},
     "output_type": "execute_result"
    }
   ],
   "source": [
    "bookings = pd.read_csv('C:/Users/LDAAHO/Desktop/Spotahome/bookings.csv', sep=',')\n",
    "\n",
    "bookings.head()"
   ]
  },
  {
   "cell_type": "markdown",
   "metadata": {},
   "source": [
    "##### Now, we merge both dataframes by unit_id so we can use all information in one unified table. Most of variables are dates, id's or qualitative variables therefore it has no sense looking for outliers. We could found empty data in any of two dataframes so we do inner join and only take registers with data in both dataframes (we are not interested in data without booking state information)."
   ]
  },
  {
   "cell_type": "code",
   "execution_count": 4,
   "metadata": {},
   "outputs": [
    {
     "data": {
      "text/html": [
       "<div>\n",
       "<style scoped>\n",
       "    .dataframe tbody tr th:only-of-type {\n",
       "        vertical-align: middle;\n",
       "    }\n",
       "\n",
       "    .dataframe tbody tr th {\n",
       "        vertical-align: top;\n",
       "    }\n",
       "\n",
       "    .dataframe thead th {\n",
       "        text-align: right;\n",
       "    }\n",
       "</style>\n",
       "<table border=\"1\" class=\"dataframe\">\n",
       "  <thead>\n",
       "    <tr style=\"text-align: right;\">\n",
       "      <th></th>\n",
       "      <th>unit_id</th>\n",
       "      <th>property_id</th>\n",
       "      <th>country</th>\n",
       "      <th>city</th>\n",
       "      <th>n_room_to_rent</th>\n",
       "      <th>apartment_type</th>\n",
       "      <th>publication_date</th>\n",
       "      <th>booking_id</th>\n",
       "      <th>check_in_date</th>\n",
       "      <th>check_out_date</th>\n",
       "      <th>booking_lead_date</th>\n",
       "      <th>booking_request_date</th>\n",
       "      <th>last_date</th>\n",
       "      <th>last_state</th>\n",
       "    </tr>\n",
       "  </thead>\n",
       "  <tbody>\n",
       "    <tr>\n",
       "      <th>0</th>\n",
       "      <td>94d6e5bceb14bcce416f2d164f8050f2</td>\n",
       "      <td>ead6beaa36331665452ca75b4baa0177</td>\n",
       "      <td>country_1</td>\n",
       "      <td>city_1</td>\n",
       "      <td>1</td>\n",
       "      <td>room_shared</td>\n",
       "      <td>2016-07-01 09:48:18.000</td>\n",
       "      <td>5970712e0b7a5aa7447221eb3d709a46</td>\n",
       "      <td>2017-07-01 00:00:00</td>\n",
       "      <td>2017-09-30 00:00:00</td>\n",
       "      <td>2017-06-17 19:43:28</td>\n",
       "      <td>2017-06-17 19:46:31</td>\n",
       "      <td>2017-06-22 17:35:16</td>\n",
       "      <td>TenantCancel</td>\n",
       "    </tr>\n",
       "    <tr>\n",
       "      <th>1</th>\n",
       "      <td>cdbbe902c7386241c0a74cf0ca934412</td>\n",
       "      <td>37f0fd2075f1248abf85116de3152013</td>\n",
       "      <td>country_5</td>\n",
       "      <td>city_6</td>\n",
       "      <td>1</td>\n",
       "      <td>room_shared</td>\n",
       "      <td>2016-04-05 09:10:21.000</td>\n",
       "      <td>9545712b7cc6b98ff60b2fdac923cbcd</td>\n",
       "      <td>2017-11-01 00:00:00</td>\n",
       "      <td>2018-02-28 00:00:00</td>\n",
       "      <td>2017-08-24 13:57:35</td>\n",
       "      <td>2017-08-24 13:58:48</td>\n",
       "      <td>2017-08-28 19:20:23</td>\n",
       "      <td>Booking</td>\n",
       "    </tr>\n",
       "    <tr>\n",
       "      <th>2</th>\n",
       "      <td>cdbbe902c7386241c0a74cf0ca934412</td>\n",
       "      <td>37f0fd2075f1248abf85116de3152013</td>\n",
       "      <td>country_5</td>\n",
       "      <td>city_6</td>\n",
       "      <td>1</td>\n",
       "      <td>room_shared</td>\n",
       "      <td>2016-04-05 09:10:21.000</td>\n",
       "      <td>bad4764d5064d54506042223f81d8b43</td>\n",
       "      <td>2017-06-23 00:00:00</td>\n",
       "      <td>2017-10-31 00:00:00</td>\n",
       "      <td>2017-05-25 21:19:52</td>\n",
       "      <td>2017-05-25 21:24:55</td>\n",
       "      <td>2017-05-26 08:33:22</td>\n",
       "      <td>Booking</td>\n",
       "    </tr>\n",
       "    <tr>\n",
       "      <th>3</th>\n",
       "      <td>ed1be91d4ddd7fd195fa959c54a97170</td>\n",
       "      <td>fd57dbe3cfb5f43f93c1d4a261da8626</td>\n",
       "      <td>country_0</td>\n",
       "      <td>city_7</td>\n",
       "      <td>1</td>\n",
       "      <td>room_shared</td>\n",
       "      <td>2016-06-24 16:19:55.000</td>\n",
       "      <td>e69683038005d16822a8c42866eb27c0</td>\n",
       "      <td>2017-09-01 12:00:00</td>\n",
       "      <td>2017-12-31 12:00:00</td>\n",
       "      <td>2017-04-04 18:30:52</td>\n",
       "      <td>2017-04-05 18:30:52</td>\n",
       "      <td>2017-04-05 18:33:28</td>\n",
       "      <td>BookingRequest</td>\n",
       "    </tr>\n",
       "    <tr>\n",
       "      <th>4</th>\n",
       "      <td>97ada3899ffea4d534963c83e2917f4f</td>\n",
       "      <td>97ada3899ffea4d534963c83e2917f4f</td>\n",
       "      <td>country_3</td>\n",
       "      <td>city_3</td>\n",
       "      <td>2</td>\n",
       "      <td>apartment</td>\n",
       "      <td>2015-01-28 20:13:37.000</td>\n",
       "      <td>30e9203d306d05406a25a5227e8ea20d</td>\n",
       "      <td>2017-10-03 00:00:00</td>\n",
       "      <td>2017-12-22 00:00:00</td>\n",
       "      <td>2017-10-01 16:22:37</td>\n",
       "      <td>2017-10-01 16:24:00</td>\n",
       "      <td>2017-10-02 12:12:26</td>\n",
       "      <td>TenantCancel</td>\n",
       "    </tr>\n",
       "  </tbody>\n",
       "</table>\n",
       "</div>"
      ],
      "text/plain": [
       "                            unit_id                       property_id  \\\n",
       "0  94d6e5bceb14bcce416f2d164f8050f2  ead6beaa36331665452ca75b4baa0177   \n",
       "1  cdbbe902c7386241c0a74cf0ca934412  37f0fd2075f1248abf85116de3152013   \n",
       "2  cdbbe902c7386241c0a74cf0ca934412  37f0fd2075f1248abf85116de3152013   \n",
       "3  ed1be91d4ddd7fd195fa959c54a97170  fd57dbe3cfb5f43f93c1d4a261da8626   \n",
       "4  97ada3899ffea4d534963c83e2917f4f  97ada3899ffea4d534963c83e2917f4f   \n",
       "\n",
       "     country    city  n_room_to_rent apartment_type         publication_date  \\\n",
       "0  country_1  city_1               1    room_shared  2016-07-01 09:48:18.000   \n",
       "1  country_5  city_6               1    room_shared  2016-04-05 09:10:21.000   \n",
       "2  country_5  city_6               1    room_shared  2016-04-05 09:10:21.000   \n",
       "3  country_0  city_7               1    room_shared  2016-06-24 16:19:55.000   \n",
       "4  country_3  city_3               2      apartment  2015-01-28 20:13:37.000   \n",
       "\n",
       "                         booking_id        check_in_date       check_out_date  \\\n",
       "0  5970712e0b7a5aa7447221eb3d709a46  2017-07-01 00:00:00  2017-09-30 00:00:00   \n",
       "1  9545712b7cc6b98ff60b2fdac923cbcd  2017-11-01 00:00:00  2018-02-28 00:00:00   \n",
       "2  bad4764d5064d54506042223f81d8b43  2017-06-23 00:00:00  2017-10-31 00:00:00   \n",
       "3  e69683038005d16822a8c42866eb27c0  2017-09-01 12:00:00  2017-12-31 12:00:00   \n",
       "4  30e9203d306d05406a25a5227e8ea20d  2017-10-03 00:00:00  2017-12-22 00:00:00   \n",
       "\n",
       "     booking_lead_date booking_request_date            last_date  \\\n",
       "0  2017-06-17 19:43:28  2017-06-17 19:46:31  2017-06-22 17:35:16   \n",
       "1  2017-08-24 13:57:35  2017-08-24 13:58:48  2017-08-28 19:20:23   \n",
       "2  2017-05-25 21:19:52  2017-05-25 21:24:55  2017-05-26 08:33:22   \n",
       "3  2017-04-04 18:30:52  2017-04-05 18:30:52  2017-04-05 18:33:28   \n",
       "4  2017-10-01 16:22:37  2017-10-01 16:24:00  2017-10-02 12:12:26   \n",
       "\n",
       "       last_state  \n",
       "0    TenantCancel  \n",
       "1         Booking  \n",
       "2         Booking  \n",
       "3  BookingRequest  \n",
       "4    TenantCancel  "
      ]
     },
     "execution_count": 4,
     "metadata": {},
     "output_type": "execute_result"
    }
   ],
   "source": [
    "df1 = pd.merge(rentable_units, bookings, how='inner', on='unit_id')\n",
    "df1.head()"
   ]
  },
  {
   "cell_type": "markdown",
   "metadata": {},
   "source": [
    "##### We add month and year columns from last_date variable to see booking state behavior along the time"
   ]
  },
  {
   "cell_type": "code",
   "execution_count": 5,
   "metadata": {
    "collapsed": true
   },
   "outputs": [],
   "source": [
    "df1['month'] = pd.DatetimeIndex(df1['last_date']).month\n",
    "df1['year'] = pd.DatetimeIndex(df1['last_date']).year"
   ]
  },
  {
   "cell_type": "markdown",
   "metadata": {},
   "source": [
    "##### We can see apartment types booked per year"
   ]
  },
  {
   "cell_type": "code",
   "execution_count": 18,
   "metadata": {},
   "outputs": [
    {
     "data": {
      "text/plain": [
       "year  apartment_type\n",
       "2014  apartment            5\n",
       "      studio               4\n",
       "2015  apartment           19\n",
       "      studio              23\n",
       "2016  apartment          113\n",
       "      room_shared          1\n",
       "      studio              92\n",
       "2017  apartment          751\n",
       "      residence            8\n",
       "      room_shared       1545\n",
       "      studio             535\n",
       "2018  apartment          210\n",
       "      residence            2\n",
       "      room_shared        333\n",
       "      studio             131\n",
       "Name: apartment_type, dtype: int64"
      ]
     },
     "execution_count": 18,
     "metadata": {},
     "output_type": "execute_result"
    }
   ],
   "source": [
    "booked = df1[df1['last_state']=='Booking']\n",
    "annual_booked = booked.groupby(['year','apartment_type'])['apartment_type'].count()\n",
    "annual_booked.head(15)"
   ]
  },
  {
   "cell_type": "markdown",
   "metadata": {},
   "source": [
    "##### Now we calculate some contingency tables to see how is the frequency dsitribution of the booking state for each country, city and apartment type and how is distributed rentable_units by country."
   ]
  },
  {
   "cell_type": "code",
   "execution_count": 6,
   "metadata": {},
   "outputs": [
    {
     "data": {
      "text/html": [
       "<div>\n",
       "<style scoped>\n",
       "    .dataframe tbody tr th:only-of-type {\n",
       "        vertical-align: middle;\n",
       "    }\n",
       "\n",
       "    .dataframe tbody tr th {\n",
       "        vertical-align: top;\n",
       "    }\n",
       "\n",
       "    .dataframe thead th {\n",
       "        text-align: right;\n",
       "    }\n",
       "</style>\n",
       "<table border=\"1\" class=\"dataframe\">\n",
       "  <thead>\n",
       "    <tr style=\"text-align: right;\">\n",
       "      <th>apartment_type</th>\n",
       "      <th>apartment</th>\n",
       "      <th>residence</th>\n",
       "      <th>room_shared</th>\n",
       "      <th>studio</th>\n",
       "    </tr>\n",
       "    <tr>\n",
       "      <th>country</th>\n",
       "      <th></th>\n",
       "      <th></th>\n",
       "      <th></th>\n",
       "      <th></th>\n",
       "    </tr>\n",
       "  </thead>\n",
       "  <tbody>\n",
       "    <tr>\n",
       "      <th>country_0</th>\n",
       "      <td>434</td>\n",
       "      <td>5</td>\n",
       "      <td>684</td>\n",
       "      <td>244</td>\n",
       "    </tr>\n",
       "    <tr>\n",
       "      <th>country_1</th>\n",
       "      <td>27</td>\n",
       "      <td>0</td>\n",
       "      <td>240</td>\n",
       "      <td>42</td>\n",
       "    </tr>\n",
       "    <tr>\n",
       "      <th>country_10</th>\n",
       "      <td>0</td>\n",
       "      <td>0</td>\n",
       "      <td>1</td>\n",
       "      <td>0</td>\n",
       "    </tr>\n",
       "    <tr>\n",
       "      <th>country_2</th>\n",
       "      <td>175</td>\n",
       "      <td>2</td>\n",
       "      <td>45</td>\n",
       "      <td>312</td>\n",
       "    </tr>\n",
       "    <tr>\n",
       "      <th>country_3</th>\n",
       "      <td>1266</td>\n",
       "      <td>12</td>\n",
       "      <td>2309</td>\n",
       "      <td>499</td>\n",
       "    </tr>\n",
       "    <tr>\n",
       "      <th>country_4</th>\n",
       "      <td>118</td>\n",
       "      <td>0</td>\n",
       "      <td>152</td>\n",
       "      <td>125</td>\n",
       "    </tr>\n",
       "    <tr>\n",
       "      <th>country_5</th>\n",
       "      <td>204</td>\n",
       "      <td>5</td>\n",
       "      <td>215</td>\n",
       "      <td>194</td>\n",
       "    </tr>\n",
       "    <tr>\n",
       "      <th>country_6</th>\n",
       "      <td>0</td>\n",
       "      <td>0</td>\n",
       "      <td>6</td>\n",
       "      <td>1</td>\n",
       "    </tr>\n",
       "    <tr>\n",
       "      <th>country_7</th>\n",
       "      <td>36</td>\n",
       "      <td>0</td>\n",
       "      <td>220</td>\n",
       "      <td>8</td>\n",
       "    </tr>\n",
       "    <tr>\n",
       "      <th>country_8</th>\n",
       "      <td>35</td>\n",
       "      <td>0</td>\n",
       "      <td>1</td>\n",
       "      <td>16</td>\n",
       "    </tr>\n",
       "    <tr>\n",
       "      <th>country_9</th>\n",
       "      <td>0</td>\n",
       "      <td>0</td>\n",
       "      <td>0</td>\n",
       "      <td>5</td>\n",
       "    </tr>\n",
       "  </tbody>\n",
       "</table>\n",
       "</div>"
      ],
      "text/plain": [
       "apartment_type  apartment  residence  room_shared  studio\n",
       "country                                                  \n",
       "country_0             434          5          684     244\n",
       "country_1              27          0          240      42\n",
       "country_10              0          0            1       0\n",
       "country_2             175          2           45     312\n",
       "country_3            1266         12         2309     499\n",
       "country_4             118          0          152     125\n",
       "country_5             204          5          215     194\n",
       "country_6               0          0            6       1\n",
       "country_7              36          0          220       8\n",
       "country_8              35          0            1      16\n",
       "country_9               0          0            0       5"
      ]
     },
     "execution_count": 6,
     "metadata": {},
     "output_type": "execute_result"
    }
   ],
   "source": [
    "pd.crosstab(df1.country, df1.apartment_type)"
   ]
  },
  {
   "cell_type": "code",
   "execution_count": 7,
   "metadata": {},
   "outputs": [
    {
     "data": {
      "text/html": [
       "<div>\n",
       "<style scoped>\n",
       "    .dataframe tbody tr th:only-of-type {\n",
       "        vertical-align: middle;\n",
       "    }\n",
       "\n",
       "    .dataframe tbody tr th {\n",
       "        vertical-align: top;\n",
       "    }\n",
       "\n",
       "    .dataframe thead th {\n",
       "        text-align: right;\n",
       "    }\n",
       "</style>\n",
       "<table border=\"1\" class=\"dataframe\">\n",
       "  <thead>\n",
       "    <tr style=\"text-align: right;\">\n",
       "      <th>last_state</th>\n",
       "      <th>Booking</th>\n",
       "      <th>BookingRequest</th>\n",
       "      <th>LandlordReject</th>\n",
       "      <th>TenantCancel</th>\n",
       "    </tr>\n",
       "    <tr>\n",
       "      <th>apartment_type</th>\n",
       "      <th></th>\n",
       "      <th></th>\n",
       "      <th></th>\n",
       "      <th></th>\n",
       "    </tr>\n",
       "  </thead>\n",
       "  <tbody>\n",
       "    <tr>\n",
       "      <th>apartment</th>\n",
       "      <td>1098</td>\n",
       "      <td>72</td>\n",
       "      <td>378</td>\n",
       "      <td>747</td>\n",
       "    </tr>\n",
       "    <tr>\n",
       "      <th>residence</th>\n",
       "      <td>10</td>\n",
       "      <td>3</td>\n",
       "      <td>3</td>\n",
       "      <td>8</td>\n",
       "    </tr>\n",
       "    <tr>\n",
       "      <th>room_shared</th>\n",
       "      <td>1879</td>\n",
       "      <td>218</td>\n",
       "      <td>297</td>\n",
       "      <td>1479</td>\n",
       "    </tr>\n",
       "    <tr>\n",
       "      <th>studio</th>\n",
       "      <td>785</td>\n",
       "      <td>48</td>\n",
       "      <td>227</td>\n",
       "      <td>386</td>\n",
       "    </tr>\n",
       "  </tbody>\n",
       "</table>\n",
       "</div>"
      ],
      "text/plain": [
       "last_state      Booking  BookingRequest  LandlordReject  TenantCancel\n",
       "apartment_type                                                       \n",
       "apartment          1098              72             378           747\n",
       "residence            10               3               3             8\n",
       "room_shared        1879             218             297          1479\n",
       "studio              785              48             227           386"
      ]
     },
     "execution_count": 7,
     "metadata": {},
     "output_type": "execute_result"
    }
   ],
   "source": [
    "pd.crosstab(df1.apartment_type, df1.last_state)"
   ]
  },
  {
   "cell_type": "code",
   "execution_count": 8,
   "metadata": {},
   "outputs": [
    {
     "data": {
      "text/html": [
       "<div>\n",
       "<style scoped>\n",
       "    .dataframe tbody tr th:only-of-type {\n",
       "        vertical-align: middle;\n",
       "    }\n",
       "\n",
       "    .dataframe tbody tr th {\n",
       "        vertical-align: top;\n",
       "    }\n",
       "\n",
       "    .dataframe thead th {\n",
       "        text-align: right;\n",
       "    }\n",
       "</style>\n",
       "<table border=\"1\" class=\"dataframe\">\n",
       "  <thead>\n",
       "    <tr style=\"text-align: right;\">\n",
       "      <th>last_state</th>\n",
       "      <th>Booking</th>\n",
       "      <th>BookingRequest</th>\n",
       "      <th>LandlordReject</th>\n",
       "      <th>TenantCancel</th>\n",
       "    </tr>\n",
       "    <tr>\n",
       "      <th>country</th>\n",
       "      <th></th>\n",
       "      <th></th>\n",
       "      <th></th>\n",
       "      <th></th>\n",
       "    </tr>\n",
       "  </thead>\n",
       "  <tbody>\n",
       "    <tr>\n",
       "      <th>country_0</th>\n",
       "      <td>688</td>\n",
       "      <td>50</td>\n",
       "      <td>159</td>\n",
       "      <td>470</td>\n",
       "    </tr>\n",
       "    <tr>\n",
       "      <th>country_1</th>\n",
       "      <td>153</td>\n",
       "      <td>12</td>\n",
       "      <td>35</td>\n",
       "      <td>109</td>\n",
       "    </tr>\n",
       "    <tr>\n",
       "      <th>country_10</th>\n",
       "      <td>1</td>\n",
       "      <td>0</td>\n",
       "      <td>0</td>\n",
       "      <td>0</td>\n",
       "    </tr>\n",
       "    <tr>\n",
       "      <th>country_2</th>\n",
       "      <td>233</td>\n",
       "      <td>19</td>\n",
       "      <td>93</td>\n",
       "      <td>189</td>\n",
       "    </tr>\n",
       "    <tr>\n",
       "      <th>country_3</th>\n",
       "      <td>2004</td>\n",
       "      <td>213</td>\n",
       "      <td>446</td>\n",
       "      <td>1423</td>\n",
       "    </tr>\n",
       "    <tr>\n",
       "      <th>country_4</th>\n",
       "      <td>170</td>\n",
       "      <td>8</td>\n",
       "      <td>50</td>\n",
       "      <td>167</td>\n",
       "    </tr>\n",
       "    <tr>\n",
       "      <th>country_5</th>\n",
       "      <td>378</td>\n",
       "      <td>33</td>\n",
       "      <td>71</td>\n",
       "      <td>136</td>\n",
       "    </tr>\n",
       "    <tr>\n",
       "      <th>country_6</th>\n",
       "      <td>0</td>\n",
       "      <td>0</td>\n",
       "      <td>1</td>\n",
       "      <td>6</td>\n",
       "    </tr>\n",
       "    <tr>\n",
       "      <th>country_7</th>\n",
       "      <td>127</td>\n",
       "      <td>3</td>\n",
       "      <td>34</td>\n",
       "      <td>100</td>\n",
       "    </tr>\n",
       "    <tr>\n",
       "      <th>country_8</th>\n",
       "      <td>15</td>\n",
       "      <td>3</td>\n",
       "      <td>14</td>\n",
       "      <td>20</td>\n",
       "    </tr>\n",
       "    <tr>\n",
       "      <th>country_9</th>\n",
       "      <td>3</td>\n",
       "      <td>0</td>\n",
       "      <td>2</td>\n",
       "      <td>0</td>\n",
       "    </tr>\n",
       "  </tbody>\n",
       "</table>\n",
       "</div>"
      ],
      "text/plain": [
       "last_state  Booking  BookingRequest  LandlordReject  TenantCancel\n",
       "country                                                          \n",
       "country_0       688              50             159           470\n",
       "country_1       153              12              35           109\n",
       "country_10        1               0               0             0\n",
       "country_2       233              19              93           189\n",
       "country_3      2004             213             446          1423\n",
       "country_4       170               8              50           167\n",
       "country_5       378              33              71           136\n",
       "country_6         0               0               1             6\n",
       "country_7       127               3              34           100\n",
       "country_8        15               3              14            20\n",
       "country_9         3               0               2             0"
      ]
     },
     "execution_count": 8,
     "metadata": {},
     "output_type": "execute_result"
    }
   ],
   "source": [
    "pd.crosstab(df1.country, df1.last_state)"
   ]
  },
  {
   "cell_type": "code",
   "execution_count": 9,
   "metadata": {},
   "outputs": [
    {
     "data": {
      "text/html": [
       "<div>\n",
       "<style scoped>\n",
       "    .dataframe tbody tr th:only-of-type {\n",
       "        vertical-align: middle;\n",
       "    }\n",
       "\n",
       "    .dataframe tbody tr th {\n",
       "        vertical-align: top;\n",
       "    }\n",
       "\n",
       "    .dataframe thead th {\n",
       "        text-align: right;\n",
       "    }\n",
       "</style>\n",
       "<table border=\"1\" class=\"dataframe\">\n",
       "  <thead>\n",
       "    <tr style=\"text-align: right;\">\n",
       "      <th>last_state</th>\n",
       "      <th>Booking</th>\n",
       "      <th>BookingRequest</th>\n",
       "      <th>LandlordReject</th>\n",
       "      <th>TenantCancel</th>\n",
       "    </tr>\n",
       "    <tr>\n",
       "      <th>city</th>\n",
       "      <th></th>\n",
       "      <th></th>\n",
       "      <th></th>\n",
       "      <th></th>\n",
       "    </tr>\n",
       "  </thead>\n",
       "  <tbody>\n",
       "    <tr>\n",
       "      <th>city_0</th>\n",
       "      <td>361</td>\n",
       "      <td>17</td>\n",
       "      <td>76</td>\n",
       "      <td>236</td>\n",
       "    </tr>\n",
       "    <tr>\n",
       "      <th>city_1</th>\n",
       "      <td>153</td>\n",
       "      <td>12</td>\n",
       "      <td>35</td>\n",
       "      <td>109</td>\n",
       "    </tr>\n",
       "    <tr>\n",
       "      <th>city_10</th>\n",
       "      <td>44</td>\n",
       "      <td>4</td>\n",
       "      <td>12</td>\n",
       "      <td>44</td>\n",
       "    </tr>\n",
       "    <tr>\n",
       "      <th>city_11</th>\n",
       "      <td>127</td>\n",
       "      <td>3</td>\n",
       "      <td>34</td>\n",
       "      <td>100</td>\n",
       "    </tr>\n",
       "    <tr>\n",
       "      <th>city_12</th>\n",
       "      <td>260</td>\n",
       "      <td>21</td>\n",
       "      <td>46</td>\n",
       "      <td>166</td>\n",
       "    </tr>\n",
       "    <tr>\n",
       "      <th>city_13</th>\n",
       "      <td>15</td>\n",
       "      <td>3</td>\n",
       "      <td>14</td>\n",
       "      <td>20</td>\n",
       "    </tr>\n",
       "    <tr>\n",
       "      <th>city_14</th>\n",
       "      <td>10</td>\n",
       "      <td>0</td>\n",
       "      <td>2</td>\n",
       "      <td>1</td>\n",
       "    </tr>\n",
       "    <tr>\n",
       "      <th>city_15</th>\n",
       "      <td>47</td>\n",
       "      <td>1</td>\n",
       "      <td>17</td>\n",
       "      <td>27</td>\n",
       "    </tr>\n",
       "    <tr>\n",
       "      <th>city_16</th>\n",
       "      <td>29</td>\n",
       "      <td>2</td>\n",
       "      <td>6</td>\n",
       "      <td>20</td>\n",
       "    </tr>\n",
       "    <tr>\n",
       "      <th>city_17</th>\n",
       "      <td>0</td>\n",
       "      <td>0</td>\n",
       "      <td>0</td>\n",
       "      <td>1</td>\n",
       "    </tr>\n",
       "    <tr>\n",
       "      <th>city_18</th>\n",
       "      <td>3</td>\n",
       "      <td>0</td>\n",
       "      <td>2</td>\n",
       "      <td>0</td>\n",
       "    </tr>\n",
       "    <tr>\n",
       "      <th>city_2</th>\n",
       "      <td>186</td>\n",
       "      <td>18</td>\n",
       "      <td>76</td>\n",
       "      <td>162</td>\n",
       "    </tr>\n",
       "    <tr>\n",
       "      <th>city_21</th>\n",
       "      <td>2</td>\n",
       "      <td>0</td>\n",
       "      <td>1</td>\n",
       "      <td>3</td>\n",
       "    </tr>\n",
       "    <tr>\n",
       "      <th>city_22</th>\n",
       "      <td>1</td>\n",
       "      <td>0</td>\n",
       "      <td>0</td>\n",
       "      <td>0</td>\n",
       "    </tr>\n",
       "    <tr>\n",
       "      <th>city_3</th>\n",
       "      <td>654</td>\n",
       "      <td>63</td>\n",
       "      <td>150</td>\n",
       "      <td>490</td>\n",
       "    </tr>\n",
       "    <tr>\n",
       "      <th>city_4</th>\n",
       "      <td>170</td>\n",
       "      <td>8</td>\n",
       "      <td>50</td>\n",
       "      <td>167</td>\n",
       "    </tr>\n",
       "    <tr>\n",
       "      <th>city_5</th>\n",
       "      <td>982</td>\n",
       "      <td>116</td>\n",
       "      <td>227</td>\n",
       "      <td>673</td>\n",
       "    </tr>\n",
       "    <tr>\n",
       "      <th>city_6</th>\n",
       "      <td>378</td>\n",
       "      <td>33</td>\n",
       "      <td>71</td>\n",
       "      <td>136</td>\n",
       "    </tr>\n",
       "    <tr>\n",
       "      <th>city_7</th>\n",
       "      <td>315</td>\n",
       "      <td>33</td>\n",
       "      <td>80</td>\n",
       "      <td>229</td>\n",
       "    </tr>\n",
       "    <tr>\n",
       "      <th>city_8</th>\n",
       "      <td>0</td>\n",
       "      <td>0</td>\n",
       "      <td>1</td>\n",
       "      <td>6</td>\n",
       "    </tr>\n",
       "    <tr>\n",
       "      <th>city_9</th>\n",
       "      <td>35</td>\n",
       "      <td>7</td>\n",
       "      <td>5</td>\n",
       "      <td>30</td>\n",
       "    </tr>\n",
       "  </tbody>\n",
       "</table>\n",
       "</div>"
      ],
      "text/plain": [
       "last_state  Booking  BookingRequest  LandlordReject  TenantCancel\n",
       "city                                                             \n",
       "city_0          361              17              76           236\n",
       "city_1          153              12              35           109\n",
       "city_10          44               4              12            44\n",
       "city_11         127               3              34           100\n",
       "city_12         260              21              46           166\n",
       "city_13          15               3              14            20\n",
       "city_14          10               0               2             1\n",
       "city_15          47               1              17            27\n",
       "city_16          29               2               6            20\n",
       "city_17           0               0               0             1\n",
       "city_18           3               0               2             0\n",
       "city_2          186              18              76           162\n",
       "city_21           2               0               1             3\n",
       "city_22           1               0               0             0\n",
       "city_3          654              63             150           490\n",
       "city_4          170               8              50           167\n",
       "city_5          982             116             227           673\n",
       "city_6          378              33              71           136\n",
       "city_7          315              33              80           229\n",
       "city_8            0               0               1             6\n",
       "city_9           35               7               5            30"
      ]
     },
     "execution_count": 9,
     "metadata": {},
     "output_type": "execute_result"
    }
   ],
   "source": [
    "pd.crosstab(df1.city, df1.last_state)"
   ]
  },
  {
   "cell_type": "markdown",
   "metadata": {},
   "source": [
    "##### We can also group data by city, apartment type and booking state to view all information in one shot. So, we can check city_5 is most booked city with 982 bookings"
   ]
  },
  {
   "cell_type": "code",
   "execution_count": 10,
   "metadata": {},
   "outputs": [
    {
     "data": {
      "text/plain": [
       "apartment_type  last_state    \n",
       "apartment       Booking           274\n",
       "                BookingRequest     27\n",
       "                LandlordReject    108\n",
       "                TenantCancel      196\n",
       "residence       LandlordReject      3\n",
       "                TenantCancel        2\n",
       "room_shared     Booking           546\n",
       "                BookingRequest     72\n",
       "                LandlordReject     81\n",
       "                TenantCancel      417\n",
       "studio          Booking           162\n",
       "                BookingRequest     17\n",
       "                LandlordReject     35\n",
       "                TenantCancel       58\n",
       "Name: last_state, dtype: int64"
      ]
     },
     "execution_count": 10,
     "metadata": {},
     "output_type": "execute_result"
    }
   ],
   "source": [
    "df2 = df1.groupby(['city','apartment_type','last_state'])['last_state'].count()\n",
    "df2.loc['city_5']"
   ]
  },
  {
   "cell_type": "markdown",
   "metadata": {},
   "source": [
    "##### Since we have been asked for apartments booking behavior in this city in last two years by rooms number, we filter grouped data by last two years to see how many bookings correspond to apartments in city_5"
   ]
  },
  {
   "cell_type": "code",
   "execution_count": 11,
   "metadata": {},
   "outputs": [
    {
     "data": {
      "text/plain": [
       "apartment_type  last_state    \n",
       "apartment       Booking           34\n",
       "                LandlordReject     5\n",
       "                TenantCancel       4\n",
       "room_shared     BookingRequest     2\n",
       "studio          Booking           23\n",
       "                LandlordReject     3\n",
       "                TenantCancel       2\n",
       "Name: last_state, dtype: int64"
      ]
     },
     "execution_count": 11,
     "metadata": {},
     "output_type": "execute_result"
    }
   ],
   "source": [
    "y16 = df1[df1['year']==2016]\n",
    "df2 = y16.groupby(['city','apartment_type','last_state'])['last_state'].count()\n",
    "df2.loc['city_5']"
   ]
  },
  {
   "cell_type": "code",
   "execution_count": 12,
   "metadata": {},
   "outputs": [
    {
     "data": {
      "text/plain": [
       "apartment_type  last_state    \n",
       "apartment       Booking           178\n",
       "                BookingRequest     25\n",
       "                LandlordReject     67\n",
       "                TenantCancel      142\n",
       "residence       LandlordReject      3\n",
       "                TenantCancel        2\n",
       "room_shared     Booking           451\n",
       "                BookingRequest     67\n",
       "                LandlordReject     62\n",
       "                TenantCancel      344\n",
       "studio          Booking           103\n",
       "                BookingRequest     17\n",
       "                LandlordReject     22\n",
       "                TenantCancel       42\n",
       "Name: last_state, dtype: int64"
      ]
     },
     "execution_count": 12,
     "metadata": {},
     "output_type": "execute_result"
    }
   ],
   "source": [
    "y17 = df1[df1['year']==2017]\n",
    "df2 = y17.groupby(['city','apartment_type','last_state'])['last_state'].count()\n",
    "df2.loc['city_5']"
   ]
  },
  {
   "cell_type": "markdown",
   "metadata": {},
   "source": [
    "##### Furthermore we want see this information grouped by rooms number per year"
   ]
  },
  {
   "cell_type": "code",
   "execution_count": 13,
   "metadata": {},
   "outputs": [
    {
     "data": {
      "text/html": [
       "<div>\n",
       "<style scoped>\n",
       "    .dataframe tbody tr th:only-of-type {\n",
       "        vertical-align: middle;\n",
       "    }\n",
       "\n",
       "    .dataframe tbody tr th {\n",
       "        vertical-align: top;\n",
       "    }\n",
       "\n",
       "    .dataframe thead th {\n",
       "        text-align: right;\n",
       "    }\n",
       "</style>\n",
       "<table border=\"1\" class=\"dataframe\">\n",
       "  <thead>\n",
       "    <tr style=\"text-align: right;\">\n",
       "      <th>apartment_type</th>\n",
       "      <th>apartment</th>\n",
       "      <th>studio</th>\n",
       "    </tr>\n",
       "    <tr>\n",
       "      <th>n_room_to_rent</th>\n",
       "      <th></th>\n",
       "      <th></th>\n",
       "    </tr>\n",
       "  </thead>\n",
       "  <tbody>\n",
       "    <tr>\n",
       "      <th>0</th>\n",
       "      <td>0</td>\n",
       "      <td>23</td>\n",
       "    </tr>\n",
       "    <tr>\n",
       "      <th>1</th>\n",
       "      <td>22</td>\n",
       "      <td>0</td>\n",
       "    </tr>\n",
       "    <tr>\n",
       "      <th>2</th>\n",
       "      <td>7</td>\n",
       "      <td>0</td>\n",
       "    </tr>\n",
       "    <tr>\n",
       "      <th>3</th>\n",
       "      <td>5</td>\n",
       "      <td>0</td>\n",
       "    </tr>\n",
       "  </tbody>\n",
       "</table>\n",
       "</div>"
      ],
      "text/plain": [
       "apartment_type  apartment  studio\n",
       "n_room_to_rent                   \n",
       "0                       0      23\n",
       "1                      22       0\n",
       "2                       7       0\n",
       "3                       5       0"
      ]
     },
     "execution_count": 13,
     "metadata": {},
     "output_type": "execute_result"
    }
   ],
   "source": [
    "p1 = df1[(df1.city=='city_5') & (df1.last_state=='Booking') & (df1.year==2016)]\n",
    "pd.crosstab(p1.n_room_to_rent, p1.apartment_type)"
   ]
  },
  {
   "cell_type": "code",
   "execution_count": 14,
   "metadata": {},
   "outputs": [
    {
     "data": {
      "text/html": [
       "<div>\n",
       "<style scoped>\n",
       "    .dataframe tbody tr th:only-of-type {\n",
       "        vertical-align: middle;\n",
       "    }\n",
       "\n",
       "    .dataframe tbody tr th {\n",
       "        vertical-align: top;\n",
       "    }\n",
       "\n",
       "    .dataframe thead th {\n",
       "        text-align: right;\n",
       "    }\n",
       "</style>\n",
       "<table border=\"1\" class=\"dataframe\">\n",
       "  <thead>\n",
       "    <tr style=\"text-align: right;\">\n",
       "      <th>apartment_type</th>\n",
       "      <th>apartment</th>\n",
       "      <th>room_shared</th>\n",
       "      <th>studio</th>\n",
       "    </tr>\n",
       "    <tr>\n",
       "      <th>n_room_to_rent</th>\n",
       "      <th></th>\n",
       "      <th></th>\n",
       "      <th></th>\n",
       "    </tr>\n",
       "  </thead>\n",
       "  <tbody>\n",
       "    <tr>\n",
       "      <th>0</th>\n",
       "      <td>0</td>\n",
       "      <td>0</td>\n",
       "      <td>103</td>\n",
       "    </tr>\n",
       "    <tr>\n",
       "      <th>1</th>\n",
       "      <td>109</td>\n",
       "      <td>451</td>\n",
       "      <td>0</td>\n",
       "    </tr>\n",
       "    <tr>\n",
       "      <th>2</th>\n",
       "      <td>55</td>\n",
       "      <td>0</td>\n",
       "      <td>0</td>\n",
       "    </tr>\n",
       "    <tr>\n",
       "      <th>3</th>\n",
       "      <td>14</td>\n",
       "      <td>0</td>\n",
       "      <td>0</td>\n",
       "    </tr>\n",
       "  </tbody>\n",
       "</table>\n",
       "</div>"
      ],
      "text/plain": [
       "apartment_type  apartment  room_shared  studio\n",
       "n_room_to_rent                                \n",
       "0                       0            0     103\n",
       "1                     109          451       0\n",
       "2                      55            0       0\n",
       "3                      14            0       0"
      ]
     },
     "execution_count": 14,
     "metadata": {},
     "output_type": "execute_result"
    }
   ],
   "source": [
    "p2 = df1[(df1.city=='city_5') & (df1.last_state=='Booking') & (df1.year==2017)]\n",
    "pd.crosstab(p2.n_room_to_rent, p2.apartment_type)"
   ]
  },
  {
   "cell_type": "markdown",
   "metadata": {},
   "source": [
    "##### Therefore we can plot data using pie chart to visualize information in a more explicit way"
   ]
  },
  {
   "cell_type": "code",
   "execution_count": 17,
   "metadata": {},
   "outputs": [
    {
     "data": {
      "image/png": "[encoded data removed]",
      "text/plain": [
       "<Figure size 432x288 with 2 Axes>"
      ]
     },
     "metadata": {},
     "output_type": "display_data"
    }
   ],
   "source": [
    "# Data from 2017\n",
    "\n",
    "labels = ['1', '2', '3']\n",
    "fracs = [61.2, 30.9, 7.9]\n",
    "explode = (0.1, 0, 0)\n",
    "\n",
    "f,(ax1,ax2) = plt.subplots(1,2)\n",
    "\n",
    "ws,texts, autotexts=ax1.pie(fracs,explode=explode, labels=labels, autopct='%1.1f%%', shadow=True, startangle=90,\n",
    "                                textprops=dict(color=\"w\"))\n",
    "\n",
    "plt.setp(autotexts, size=10, weight=\"bold\")\n",
    "\n",
    "plt.legend(ws, labels,\n",
    "          title=\"Rooms\",\n",
    "          loc=\"center left\",\n",
    "          bbox_to_anchor=(0.95, 0, 1, 1))\n",
    "\n",
    "ax1.axis('equal')\n",
    "ax1.set_title(\"Apartments booked in city_5 (2017)\")\n",
    "\n",
    "# Data from 2016\n",
    "\n",
    "fracs = [64.7, 20.6, 14.7]\n",
    "ws,texts, autotexts=ax2.pie(fracs,explode=explode, labels=labels, autopct='%1.1f%%', shadow=True, startangle=90,\n",
    "                                textprops=dict(color=\"w\"))\n",
    "\n",
    "plt.setp(autotexts, size=10, weight=\"bold\")\n",
    "ax2.axis('equal')\n",
    "ax2.set_title(\"Apartments booked in city_5 (2016)\")\n",
    "\n",
    "f.subplots_adjust(-0.1,0,1,0.8)\n",
    "plt.show()"
   ]
  },
  {
   "cell_type": "markdown",
   "metadata": {},
   "source": [
    "##### As we can see in plots, the number of apartments booked with one and three rooms decrease in 2017 with regard to 2016, meanwhile apartments with two rooms increase, so it seems that we should buy two rooms apartments in city_5 (after check 2018 data for all the whole year when we have that information )"
   ]
  },
  {
   "cell_type": "markdown",
   "metadata": {},
   "source": [
    "##### We can also check which is the most frequent state of the booking"
   ]
  },
  {
   "cell_type": "code",
   "execution_count": 19,
   "metadata": {},
   "outputs": [
    {
     "data": {
      "image/png": "[encoded data removed]",
      "text/plain": [
       "<Figure size 432x288 with 1 Axes>"
      ]
     },
     "metadata": {
      "needs_background": "light"
     },
     "output_type": "display_data"
    }
   ],
   "source": [
    "df1.last_state.value_counts(normalize=True).plot(kind='bar', alpha=.5)\n",
    "plt.show()"
   ]
  },
  {
   "cell_type": "markdown",
   "metadata": {},
   "source": [
    "##### and most booked apartment type "
   ]
  },
  {
   "cell_type": "code",
   "execution_count": 20,
   "metadata": {},
   "outputs": [
    {
     "data": {
      "image/png": "[encoded data removed]",
      "text/plain": [
       "<Figure size 432x288 with 1 Axes>"
      ]
     },
     "metadata": {
      "needs_background": "light"
     },
     "output_type": "display_data"
    }
   ],
   "source": [
    "df1.apartment_type[df1.last_state=='Booking'].value_counts(normalize=True).plot(kind='bar', alpha=.5)\n",
    "plt.show()"
   ]
  },
  {
   "cell_type": "markdown",
   "metadata": {},
   "source": [
    "##### Moreover we can see distribution of states of the booking per city"
   ]
  },
  {
   "cell_type": "code",
   "execution_count": 21,
   "metadata": {},
   "outputs": [
    {
     "data": {
      "image/png": "[encoded data removed]",
      "text/plain": [
       "<Figure size 1008x720 with 4 Axes>"
      ]
     },
     "metadata": {
      "needs_background": "light"
     },
     "output_type": "display_data"
    }
   ],
   "source": [
    "fig = plt.figure(figsize=(14,10))\n",
    "states = ['Booking', 'LandlordReject', 'BookingRequest', 'TenantCancel']\n",
    "\n",
    "i = 221\n",
    "\n",
    "for state in states:\n",
    "    plt.subplot(i)\n",
    "    df1.city[df1.last_state==state].value_counts(normalize=True).plot(kind='bar', alpha=.5)\n",
    "    plt.title(state)\n",
    "    i+=1\n",
    "\n",
    "plt.subplots_adjust(hspace=.4)\n",
    "plt.show()"
   ]
  },
  {
   "cell_type": "markdown",
   "metadata": {},
   "source": [
    "##### It seems that city_5 and city_3 have the most of the booking request"
   ]
  },
  {
   "cell_type": "markdown",
   "metadata": {},
   "source": [
    "##### Finally, we are interested in studying seasonality for states of the booking along the last four years so we can decide which are the best months to make advertising campaigns to increase the number of bookings and avoid months with high number of tenant cancellations or landlord rejects."
   ]
  },
  {
   "cell_type": "code",
   "execution_count": 22,
   "metadata": {},
   "outputs": [
    {
     "data": {
      "image/png": "[encoded data removed]",
      "text/plain": [
       "<Figure size 1080x720 with 4 Axes>"
      ]
     },
     "metadata": {
      "needs_background": "light"
     },
     "output_type": "display_data"
    }
   ],
   "source": [
    "states = ['Booking', 'TenantCancel', 'LandlordReject', 'BookingRequest']\n",
    "\n",
    "fig = plt.figure(figsize=(15,10))\n",
    "\n",
    "years = [2018, 2017, 2016, 2015]\n",
    "\n",
    "i = 221\n",
    "\n",
    "for year in years:\n",
    "    \n",
    "    df2 = df1[df1['year'] == year]\n",
    "    if year < 2017:\n",
    "        states = states[0:3]\n",
    "    plt.subplot(i)\n",
    "    for state in states:\n",
    "        df2.month[df1.last_state == state].plot(kind = 'kde')\n",
    "    i+=1\n",
    "            \n",
    "    plt.legend(('Booking', 'TenantCancel', 'LandlordReject', 'BookingRequest'), loc=0)\n",
    "    plt.xlabel('Month')\n",
    "    plt.ylabel('Density')\n",
    "    plt.grid(True)\n",
    "    plt.title(year)\n",
    "    \n",
    "plt.subplots_adjust(hspace=.3, wspace=.3)\n",
    "plt.show()"
   ]
  },
  {
   "cell_type": "markdown",
   "metadata": {},
   "source": [
    "##### As we can see in plots, it is inferred that the most of bookings are made in summer months except in 2018 where bookings are concentrated in January and February because we only have information for first quarter.\n",
    "##### In 2017 most of booking request are made in spring months, while there are more tenant cancellations than bookings in summer months.\n",
    "##### In 2015 and 2016 there is not enough data of booking request to plot it, but we can see that the most of tenant cancellations and landlord rejects are made in October and November.\n",
    "##### Therefore, bookings increase in summer every year and then begin to decrease until the end of the year while tenant cancellations and landlord rejects have the maximum in autumn months. So we should have as many operative rentable units as possible in summer, especially room shared in city_5 and city_3."
   ]
  }
 ],
 "metadata": {
  "kernelspec": {
   "display_name": "Python 3",
   "language": "python",
   "name": "python3"
  },
  "language_info": {
   "codemirror_mode": {
    "name": "ipython",
    "version": 3
   },
   "file_extension": ".py",
   "mimetype": "text/x-python",
   "name": "python",
   "nbconvert_exporter": "python",
   "pygments_lexer": "ipython3",
   "version": "3.6.1"
  }
 },
 "nbformat": 4,
 "nbformat_minor": 2
}
